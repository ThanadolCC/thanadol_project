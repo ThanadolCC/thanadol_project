{
 "cells": [
  {
   "cell_type": "code",
   "execution_count": 22,
   "metadata": {
    "datalore": {
     "hide_input_from_viewers": false,
     "hide_output_from_viewers": false,
     "node_id": "4uZo4N5zoMQ8taKWgqg3gw",
     "type": "CODE"
    }
   },
   "outputs": [],
   "source": [
    "from IPython.display import  clear_output\n",
    "\n",
    "# Define function for displaying game's board.\n",
    "\n",
    "def display_board(board) :\n",
    "\n",
    "    print('Here is the current board.\\n') \n",
    "    print(board[7] + '|' + board[8] + '|' + board[9] )\n",
    "    print(board[4] + '|' + board[5] + '|' + board[6] )\n",
    "    print(board[1] + '|' + board[2] + '|' + board[3] )\n"
   ]
  },
  {
   "cell_type": "code",
   "execution_count": 33,
   "metadata": {
    "datalore": {
     "hide_input_from_viewers": false,
     "hide_output_from_viewers": false,
     "node_id": "XMJ68l3urBc61xEFrKpVWW",
     "type": "CODE"
    }
   },
   "outputs": [],
   "source": [
    "# Function for getting players's marks.\n",
    "\n",
    "def player_input() :\n",
    "    \n",
    "    player1_mark = 'wrong'\n",
    "    acceptable_choice = [1,2]\n",
    "    within_choice = False\n",
    "\n",
    "\n",
    "    while player1_mark.isdigit() == False or within_choice == False :\n",
    "        \n",
    "        player1_mark = input('Please Select your mark ( 1 = \"X\" , 2 = \"O\") : ')\n",
    "\n",
    "        if player1_mark.isdigit() == False :\n",
    "\n",
    "            print('Sorry that is not digit.')\n",
    "\n",
    "        elif player1_mark.isdigit() == True :\n",
    "\n",
    "            if int(player1_mark) in acceptable_choice :\n",
    "                \n",
    "                within_choice = True\n",
    "            else :\n",
    "                print('Please select 1 or 2')\n",
    "                within_choice = False\n",
    "\n",
    "    if int(player1_mark) == 1 :\n",
    "        \n",
    "        player1_mark = 'X'\n",
    "        player2_mark = 'O'\n",
    "    \n",
    "    else :\n",
    "        \n",
    "        player1_mark = 'O'\n",
    "        player2_mark = 'X'\n",
    "    \n",
    "    print(f'Player 1 mark is \"{player1_mark}\" \\n, Player 2 is \"{player2_mark}\"')\n",
    "    players_marks = [player1_mark,player2_mark]\n",
    "\n",
    "    return  players_marks\n",
    "\n"
   ]
  },
  {
   "cell_type": "code",
   "execution_count": 24,
   "metadata": {
    "datalore": {
     "hide_input_from_viewers": false,
     "hide_output_from_viewers": false,
     "node_id": "GnQKjUwfMy2k2lMzSY73Ag",
     "type": "CODE"
    }
   },
   "outputs": [],
   "source": [
    "# Function for replacing position with player's marker.\n",
    "\n",
    "def place_marker(board,marker,position) :\n",
    "\n",
    "    board[position] = marker\n",
    "\n",
    "    return board"
   ]
  },
  {
   "cell_type": "code",
   "execution_count": 25,
   "metadata": {
    "datalore": {
     "hide_input_from_viewers": false,
     "hide_output_from_viewers": false,
     "node_id": "ezDb5mhXLZKn17kqFUonRD",
     "type": "CODE"
    }
   },
   "outputs": [],
   "source": [
    "# Winning conditions in Tic Tac Toe Game\n",
    "\n",
    "def win_check(board,mark) :\n",
    "    \n",
    "\n",
    "        \n",
    "    if board[1] == board[4] == board[7] == mark :  \n",
    "        \n",
    "        return  True\n",
    "\n",
    "    elif board[7] == board[8] == board[9] == mark :\n",
    "        \n",
    "        return  True\n",
    "\n",
    "    elif board[4] == board[5] == board[6] == mark :\n",
    "        \n",
    "        return  True  \n",
    "        \n",
    "    elif board[1] == board[2] == board[3] == mark :\n",
    "        \n",
    "        return  True\n",
    "\n",
    "    elif board[2] == board[5] == board[8] == mark :\n",
    "        \n",
    "        return  True      \n",
    "    \n",
    "    elif board[3] == board[6] == board[9] == mark :\n",
    "        \n",
    "        return  True        \n",
    "    \n",
    "    elif board[7] == board[5] == board[3] == mark :\n",
    "        \n",
    "        return  True     \n",
    "\n",
    "    elif board[1] == board[5] == board[9] == mark :\n",
    "        \n",
    "        return  True\n",
    "\n",
    "    else : \n",
    "        return False\n",
    "    \n",
    "\n",
    "    "
   ]
  },
  {
   "cell_type": "code",
   "execution_count": 26,
   "metadata": {
    "datalore": {
     "hide_input_from_viewers": false,
     "hide_output_from_viewers": false,
     "node_id": "f5TsAcoPSr6rLIshLy6LWk",
     "type": "CODE"
    }
   },
   "outputs": [],
   "source": [
    "# Randomly first player move.\n",
    "\n",
    "import random \n",
    "\n",
    "def choose_first() :\n",
    "\n",
    "    first_move = random.randint(1,2)\n",
    "\n",
    "    return first_move\n"
   ]
  },
  {
   "cell_type": "code",
   "execution_count": 27,
   "metadata": {
    "datalore": {
     "hide_input_from_viewers": false,
     "hide_output_from_viewers": false,
     "node_id": "X2tLkL2mJtR9OkOdWEoyFs",
     "type": "CODE"
    }
   },
   "outputs": [],
   "source": [
    "# Available space check.\n",
    "\n",
    "def space_check(board,position) :\n",
    "\n",
    "    if position in [1,2,3,4,5,6,7,8,9] :\n",
    "\n",
    "        if board[position] == 'X' or board[position] == 'O' :\n",
    "            \n",
    "            print('Sorry, your position is not available.')\n",
    "            return False\n",
    "        \n",
    "        else : \n",
    "            return True\n",
    "    else : \n",
    "        return False\n",
    "    "
   ]
  },
  {
   "cell_type": "code",
   "execution_count": 28,
   "metadata": {
    "datalore": {
     "hide_input_from_viewers": false,
     "hide_output_from_viewers": false,
     "node_id": "Sn6JZaEp4ikT136ESKP0X7",
     "type": "CODE"
    }
   },
   "outputs": [],
   "source": [
    "# Checking whether board is full.\n",
    "def full_board_check(board) :\n",
    "\n",
    "    for i in range(1,len(board)) :\n",
    "        # Check available space on board.\n",
    "        if board[i] == ' ' :\n",
    "            return False\n",
    "        else :\n",
    "            pass\n",
    "   \n",
    "    return True  "
   ]
  },
  {
   "cell_type": "code",
   "execution_count": 29,
   "metadata": {
    "datalore": {
     "hide_input_from_viewers": false,
     "hide_output_from_viewers": false,
     "node_id": "8MYinWW4EGwG3Y406a1w30",
     "type": "CODE"
    }
   },
   "outputs": [],
   "source": [
    "# Getting position from player.\n",
    "\n",
    "def player_choice(board) :\n",
    "    \n",
    "    position = 0\n",
    "    position_range = False\n",
    "\n",
    "    while position_range == False or space_check(board,position) == False :\n",
    "        \n",
    "\n",
    "        position = input('Choose your next position (1-9) : ')\n",
    "\n",
    "        # Checking whether input is digit\n",
    "        if position.isdigit() == False :\n",
    "            print('Sorry that is not a number (1-9)')\n",
    "            position = 0\n",
    "        \n",
    "        else :\n",
    "\n",
    "            if int(position) not in [1,2,3,4,5,6,7,8,9] :\n",
    "                print('You choice is out of range !')\n",
    "            \n",
    "            else :\n",
    "                position_range = True\n",
    "                position = int(position)\n",
    "\n",
    "            \n",
    "\n",
    "    return position\n"
   ]
  },
  {
   "cell_type": "code",
   "execution_count": 48,
   "metadata": {
    "datalore": {
     "hide_input_from_viewers": false,
     "hide_output_from_viewers": false,
     "node_id": "iISmlNgtW6p6g8vf8ThHTv",
     "type": "CODE"
    }
   },
   "outputs": [],
   "source": [
    "def replay() :\n",
    "\n",
    "    while True :\n",
    "        \n",
    "        play_agian = input('\\nDo you want to play agian ? Y or N')\n",
    "\n",
    "        if play_agian.lower() in ['y','n'] : \n",
    "           \n",
    "            if play_agian.lower() == 'y' :\n",
    "                return True\n",
    " \n",
    "            else : \n",
    "                return False\n",
    "        else : pass\n",
    "                "
   ]
  },
  {
   "cell_type": "code",
   "execution_count": 49,
   "metadata": {
    "datalore": {
     "hide_input_from_viewers": false,
     "hide_output_from_viewers": false,
     "node_id": "tBAFhtyBNAkVfJsY5tx5NZ",
     "type": "CODE"
    }
   },
   "outputs": [],
   "source": [
    "def tic_tac_toe() :\n",
    "    print('Welcome to Tic Tac Toe Game!')\n",
    "\n",
    "    while True :\n",
    "        board = [' '] * 10\n",
    "        player_marks = player_input()\n",
    "        player1_mark = player_marks[0]\n",
    "        player2_mark = player_marks[1]\n",
    "        turn = choose_first()\n",
    "        print(f'Player {turn} will go first.')\n",
    "\n",
    "        while True :\n",
    "            \n",
    "            play_game = input('\\nAre you ready to play game ? Y or N')\n",
    "\n",
    "            if play_game.lower() in ['y','n'] : \n",
    "                if play_game.lower() == 'y' :\n",
    "                    game_on = True \n",
    "                    break\n",
    "                else : \n",
    "                    game_on = False\n",
    "                    break\n",
    "            else : pass\n",
    "                    \n",
    "        while game_on :\n",
    "\n",
    "            if turn == 1 : # Play 1 's turn\n",
    "\n",
    "                display_board(board)\n",
    "                print(f'\\nPlayer 1 Turn ({player1_mark})')\n",
    "                position = player_choice(board)\n",
    "                place_marker(board,player1_mark,position)\n",
    "\n",
    "                if win_check(board,player1_mark) :\n",
    "                    \n",
    "                    display_board(board)\n",
    "                    print('Player 1 is the Winner !') \n",
    "                    game_on = False\n",
    "                \n",
    "                else :\n",
    "                    if full_board_check(board) == True :\n",
    "                        display_board(board)\n",
    "                        print('Game is draw !')\n",
    "                        break\n",
    "                    else :\n",
    "                        turn = 2  # Player'2 turn\n",
    "            else :\n",
    "\n",
    "                display_board(board)\n",
    "                print(f'\\nPlayer 2 Turn ({player2_mark})')\n",
    "                position = player_choice(board)\n",
    "                place_marker(board,player2_mark,position)\n",
    "\n",
    "                if win_check(board,player2_mark) :\n",
    "\n",
    "                    display_board(board)\n",
    "                    print('Player 2 is The Winner!')\n",
    "                    game_on = False\n",
    "\n",
    "                else :\n",
    "                    if full_board_check(board) == True :\n",
    "                        display_board(board)\n",
    "                        print('Game is draw!')\n",
    "                        break\n",
    "                    else :\n",
    "                        turn = 1\n",
    "        if not replay() :\n",
    "            print('Thank you for playing !')\n",
    "            break\n"
   ]
  },
  {
   "cell_type": "code",
   "execution_count": 52,
   "metadata": {
    "datalore": {
     "hide_input_from_viewers": false,
     "hide_output_from_viewers": false,
     "node_id": "5EIzRtNA07rX10k5txGCg1",
     "type": "CODE"
    }
   },
   "outputs": [
    {
     "name": "stdout",
     "output_type": "stream",
     "text": [
      "Welcome to Tic Tac Toe Game!\n",
      "Please Select your mark ( 1 = \"X\" , 2 = \"O\") :  1\n",
      "Player 1 mark is \"X\" , Player 2 is \"O\"\n",
      "Player 1 will go first.\n",
      "\n",
      "Are you ready to play game ? Y or N Y\n",
      "Here is the current board.\n",
      "\n",
      " | | \n",
      " | | \n",
      " | | \n",
      "\n",
      "Player 1 Turn (X)\n",
      "Choose your next position (1-9) :  2\n",
      "Here is the current board.\n",
      "\n",
      " | | \n",
      " | | \n",
      " |X| \n",
      "\n",
      "Player 2 Turn (O)\n",
      "Choose your next position (1-9) :  3\n",
      "Here is the current board.\n",
      "\n",
      " | | \n",
      " | | \n",
      " |X|O\n",
      "\n",
      "Player 1 Turn (X)\n",
      "Choose your next position (1-9) :  4\n",
      "Here is the current board.\n",
      "\n",
      " | | \n",
      "X| | \n",
      " |X|O\n",
      "\n",
      "Player 2 Turn (O)\n",
      "Choose your next position (1-9) :  5\n",
      "Here is the current board.\n",
      "\n",
      " | | \n",
      "X|O| \n",
      " |X|O\n",
      "\n",
      "Player 1 Turn (X)\n",
      "Choose your next position (1-9) :  6\n",
      "Here is the current board.\n",
      "\n",
      " | | \n",
      "X|O|X\n",
      " |X|O\n",
      "\n",
      "Player 2 Turn (O)\n",
      "Choose your next position (1-9) :  7\n",
      "Here is the current board.\n",
      "\n",
      "O| | \n",
      "X|O|X\n",
      " |X|O\n",
      "Player 2 is The Winner!\n",
      "\n",
      "Do you want to play agian ? Y or N N\n",
      "Thank you for playing !\n"
     ]
    }
   ],
   "source": [
    "tic_tac_toe()"
   ]
  }
 ],
 "metadata": {
  "datalore": {
   "base_environment": "default",
   "computation_mode": "JUPYTER",
   "package_manager": "pip",
   "packages": [],
   "version": 1
  },
  "kernelspec": {
   "display_name": "Python",
   "language": "python",
   "name": "python"
  }
 },
 "nbformat": 4,
 "nbformat_minor": 4
}
